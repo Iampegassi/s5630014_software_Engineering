{
  "cells": [
    {
      "cell_type": "code",
      "execution_count": 168,
      "metadata": {
        "id": "x9i-JBq2zPyE"
      },
      "outputs": [],
      "source": [
        "import numpy as np\n",
        "import pandas as pd\n",
        "import torch\n",
        "\n",
        "import warnings\n",
        "\n",
        "# Suppress  messages\n",
        "warnings.simplefilter(action='ignore', category=FutureWarning)"
      ]
    },
    {
      "cell_type": "code",
      "execution_count": 169,
      "metadata": {
        "colab": {
          "base_uri": "https://localhost:8080/"
        },
        "id": "_nf4dFKgz8Kg",
        "outputId": "17285b25-5786-4deb-9eb2-14bc0d18c6ec"
      },
      "outputs": [
        {
          "name": "stdout",
          "output_type": "stream",
          "text": [
            "fashion_data.ipynb\t LICENSE    saved_models     Untitled-1.ipynb\n",
            "fashion-mnist_test.csv\t README.md  test_project.py  venv\n",
            "fashion-mnist_train.csv  runs\t    training.py\n"
          ]
        }
      ],
      "source": [
        "\n",
        "train_csv_path=f\"fashion-mnist_train.csv\"\n",
        "\n",
        "\n",
        "!ls"
      ]
    },
    {
      "cell_type": "code",
      "execution_count": 170,
      "metadata": {
        "id": "NF8jcJK_ziq3"
      },
      "outputs": [],
      "source": [
        "TrainFashion_df = pd.read_csv(f\"fashion-mnist_train.csv\")\n",
        "products = TrainFashion_df[['label']].to_numpy()\n",
        "images  = TrainFashion_df.drop(['label'], axis=1).to_numpy()"
      ]
    },
    {
      "cell_type": "code",
      "execution_count": 171,
      "metadata": {
        "colab": {
          "base_uri": "https://localhost:8080/"
        },
        "id": "fkZf2qtV0ke2",
        "outputId": "3d35f93c-f5d2-4246-e23f-b27050a988ee"
      },
      "outputs": [
        {
          "data": {
            "text/plain": [
              "(60000, 28, 28)"
            ]
          },
          "execution_count": 171,
          "metadata": {},
          "output_type": "execute_result"
        }
      ],
      "source": [
        "images_reshaped = images.reshape(-1, 28, 28)\n",
        "images_reshaped.shape"
      ]
    },
    {
      "cell_type": "code",
      "execution_count": 172,
      "metadata": {
        "colab": {
          "base_uri": "https://localhost:8080/",
          "height": 447
        },
        "id": "4tUI8doh05Ie",
        "outputId": "0012c0bc-ef98-485e-b003-2be36e8f62c1"
      },
      "outputs": [
        {
          "data": {
            "text/plain": [
              "<matplotlib.image.AxesImage at 0x7f1fa62a3dd0>"
            ]
          },
          "execution_count": 172,
          "metadata": {},
          "output_type": "execute_result"
        },
        {
          "data": {
            "image/png": "[encoded data removed]",
            "text/plain": [
              "<Figure size 640x480 with 1 Axes>"
            ]
          },
          "metadata": {},
          "output_type": "display_data"
        }
      ],
      "source": [
        "import matplotlib.pyplot as plt\n",
        "\n",
        "plt.imshow(images_reshaped[60])"
      ]
    },
    {
      "cell_type": "code",
      "execution_count": 173,
      "metadata": {
        "id": "Ix9Rit2es01u"
      },
      "outputs": [],
      "source": [
        "from torch.utils.data import Dataset\n",
        "import pandas as pd"
      ]
    },
    {
      "cell_type": "code",
      "execution_count": 174,
      "metadata": {
        "id": "6BpTl5jKr4F9"
      },
      "outputs": [],
      "source": [
        "# Here we define our dataset - it is a map-style dataset, which means we have to know its size at initialisation and\n",
        "# must be able to access data points at arbitrary locations. This is why the following methods must be implemented:\n",
        "# __len__ and __getitem__\n",
        "class FashionMNISTDataset(Dataset):\n",
        "    def __init__(self, filepath: str):\n",
        "        super().__init__()\n",
        "        # Load data from CSV filepath defined earlier into a Pandas dataframe\n",
        "        self.dataset = pd.read_csv(filepath)\n",
        "\n",
        "    def __len__(self):\n",
        "        return len(self.dataset)\n",
        "\n",
        "    def __getitem__(self, index):\n",
        "        return self.dataset.iloc[index]"
      ]
    },
    {
      "cell_type": "code",
      "execution_count": 175,
      "metadata": {
        "id": "_qVWdQ6vtPwZ"
      },
      "outputs": [],
      "source": [
        "import multiprocessing as mp\n",
        "from torch.utils.data import DataLoader, random_split\n",
        "import torchvision.transforms as transforms"
      ]
    },
    {
      "cell_type": "code",
      "execution_count": 176,
      "metadata": {
        "id": "TaJHwf9jtd8V"
      },
      "outputs": [],
      "source": [
        "def process_image (image):\n",
        "    img = Image.open(f\"{DATA_PREFIX}/\" + image)\n",
        "    return transform(img)"
      ]
    },
    {
      "cell_type": "code",
      "execution_count": 177,
      "metadata": {
        "id": "gCEN9_5sv1fK"
      },
      "outputs": [],
      "source": [
        "# item is referred to as pd_series because of the get_image_tensor function\n",
        "def get_image_tensor(pd_series, threshold):\n",
        "    img_tensor = torch.FloatTensor(pd_series.iloc[1:])\n",
        "    img_tensor = img_tensor.reshape(1, 28, 28)\n",
        "    #img_tensor = torch.where(img_tensor < threshold, 0, img_tensor)\n",
        "    return img_tensor"
      ]
    },
    {
      "cell_type": "code",
      "execution_count": 214,
      "metadata": {
        "id": "IFPcD04BtS6t"
      },
      "outputs": [],
      "source": [
        "def custom_collate_fn(batch):\n",
        "    # Define a tensor of the same size as our image batch to store loaded images into\n",
        "    image_batch_tensor = torch.FloatTensor(len(batch), 1, 28, 28)\n",
        "    # Define empty lists to hold items we encounter\n",
        "    image_tensors = []\n",
        "    labels = []\n",
        "    for item in batch:\n",
        "        # load a single image\n",
        "        image_tensor = get_image_tensor(item, threshold=80)\n",
        "        # put image into a list\n",
        "        image_tensors.append(image_tensor.unsqueeze(0))\n",
        "        # put the same image's label into another list\n",
        "        labels.append(item.iloc[0])\n",
        "\n",
        "\n",
        "    # Concatenate the list of individual tensors (image_tensors) into a single Pytorch tensor (image_batch_tensor)\n",
        "    torch.cat(image_tensors, out=image_batch_tensor)\n",
        "    label_batch_tensor = torch.LongTensor(labels)\n",
        "    # Use the label list to create a torch tensor of ints\n",
        "    return image_batch_tensor, label_batch_tensor"
      ]
    },
    {
      "cell_type": "code",
      "execution_count": 180,
      "metadata": {
        "id": "C716GtXyuPI7"
      },
      "outputs": [],
      "source": [
        "def load_data(data_path, batch_sz=100, train_val_split=[0.7, 0.3]):\n",
        "    assert sum(train_val_split) == 1, \"Train and val fractions should sum to 1!\"  # Always a good idea to use static asserts when processing arguments that are passed in by a user!\n",
        "    # Instantiate our previously defined dataset\n",
        "    dataset = FashionMNISTDataset(data_path)\n",
        "    # split dataset into train and val\n",
        "    tr_va = []\n",
        "    for frac in train_val_split:\n",
        "        actual_count = frac * len(dataset)\n",
        "        actual_count = round(actual_count)\n",
        "        tr_va.append(actual_count)\n",
        "\n",
        "    train_split, val_split = random_split(dataset, tr_va)\n",
        "\n",
        "     # Use Pytorch DataLoader to load each split into memory. It's important to pass in our custom collate function, so it knows how to interpret the\n",
        "    # data and load it. num_workers tells the DataLoader how many CPU threads to use so that data can be loaded in parallel, which is faster\n",
        "\n",
        "    # Get CPU count\n",
        "    n_cpus = mp.cpu_count() # returns number of CPU cores on this machine\n",
        "    train_dl = DataLoader(\n",
        "        train_split,\n",
        "        batch_size=batch_sz,\n",
        "        shuffle=True,\n",
        "        collate_fn=custom_collate_fn,\n",
        "        num_workers=n_cpus\n",
        "    )\n",
        "\n",
        "    val_dl = DataLoader(\n",
        "        val_split,\n",
        "        batch_size=batch_sz,\n",
        "        shuffle=True,\n",
        "        collate_fn=custom_collate_fn,\n",
        "        num_workers=n_cpus\n",
        "    )\n",
        "\n",
        "    return train_dl, val_dl\n"
      ]
    },
    {
      "cell_type": "code",
      "execution_count": 181,
      "metadata": {
        "id": "1nEi3849wfYk"
      },
      "outputs": [],
      "source": [
        "def image_grid(batch, ncols):\n",
        "  height, width = batch[0].shape\n",
        "  nrows = len(batch)//ncols\n",
        "\n",
        "  image_grid = (batch.reshape(nrows, ncols, height, width)\n",
        "              .swapaxes(1,2)\n",
        "              .reshape(height*nrows, width*ncols))\n",
        "\n",
        "  return image_grid\n",
        "\n",
        "def show_batch(batch, title=\"Image batch\", cols=4):\n",
        "    N = len(batch)\n",
        "    if N > cols:\n",
        "        assert N % cols == 0, \"Number of cols must be a multiple of N\"\n",
        "\n",
        "    result = image_grid(batch, cols)\n",
        "    fig = plt.figure(figsize=(5., 5.))\n",
        "    plt.suptitle(f\"{title} [{int(N/cols)}x{cols}]\")\n",
        "    plt.imshow(result, cmap='gray')"
      ]
    },
    {
      "cell_type": "code",
      "execution_count": 183,
      "metadata": {
        "id": "JziBTWYu2Dxl"
      },
      "outputs": [],
      "source": [
        "train_dl, val_dl = load_data(f\"fashion-mnist_train.csv\", batch_sz=16)"
      ]
    },
    {
      "cell_type": "code",
      "execution_count": 184,
      "metadata": {
        "colab": {
          "base_uri": "https://localhost:8080/"
        },
        "id": "7hKJ9_ox2UWD",
        "outputId": "87de0dba-b3de-4f3a-c764-a81dc50b115a"
      },
      "outputs": [
        {
          "name": "stdout",
          "output_type": "stream",
          "text": [
            "torch.Size([16, 1, 28, 28]) torch.Size([16])\n"
          ]
        }
      ],
      "source": [
        "img_batch, label_batch = next(iter(train_dl))\n",
        "print(img_batch.shape, label_batch.shape)"
      ]
    },
    {
      "cell_type": "code",
      "execution_count": 185,
      "metadata": {
        "colab": {
          "base_uri": "https://localhost:8080/",
          "height": 564
        },
        "id": "E7C-JyS46qrA",
        "outputId": "1dfa2f7a-7138-43e2-ba52-075222d0918d"
      },
      "outputs": [
        {
          "name": "stdout",
          "output_type": "stream",
          "text": [
            "tensor([[1, 5, 5, 0],\n",
            "        [4, 5, 5, 8],\n",
            "        [9, 2, 6, 0],\n",
            "        [4, 5, 8, 4]])\n"
          ]
        },
        {
          "data": {
            "image/png": "[encoded data removed]",
            "text/plain": [
              "<Figure size 500x500 with 1 Axes>"
            ]
          },
          "metadata": {},
          "output_type": "display_data"
        }
      ],
      "source": [
        "show_batch(img_batch.squeeze(1))\n",
        "print(label_batch.reshape(4, 4))\n",
        "\n"
      ]
    },
    {
      "cell_type": "code",
      "execution_count": 220,
      "metadata": {
        "colab": {
          "base_uri": "https://localhost:8080/",
          "height": 428
        },
        "id": "QMvK6kmoVEti",
        "outputId": "1c2a99b2-5a37-479f-c7f9-ff42443d91f4"
      },
      "outputs": [
        {
          "data": {
            "image/png": "[encoded data removed]",
            "text/plain": [
              "<Figure size 640x480 with 1 Axes>"
            ]
          },
          "metadata": {},
          "output_type": "display_data"
        }
      ],
      "source": [
        "label_mapping = {\n",
        "    0: 'T-shirt/top',\n",
        "    1: 'Trouser',\n",
        "    2: 'Pullover',\n",
        "    3: 'Dress',\n",
        "    4: 'Coat',\n",
        "    5: 'Sandal',\n",
        "    6: 'Shirt',\n",
        "    7: 'Sneaker',\n",
        "    8: 'Bag',\n",
        "    9: 'Ankle boot'\n",
        "  }\n",
        "\n",
        "def display_fashion_item_by_label(df, target_label):\n",
        "  target_df = df[df['label']==target_label]\n",
        "\n",
        "  if not target_df.empty:\n",
        "     image_data = target_df.drop('label', axis =1).iloc[0].values.reshape(28,28)\n",
        "     fashion_item = label_mapping[target_label]\n",
        "\n",
        "     plt.imshow(image_data , vmin=0, vmax=255)\n",
        "     plt.title(f'Fashion Item:{fashion_item}')\n",
        "     plt.axis('off')\n",
        "     plt.show()\n",
        "  else:\n",
        "     print(f'No images found for the label{target_label}')\n",
        "\n",
        "display_fashion_item_by_label(TrainFashion_df, target_label=5)\n"
      ]
    },
    {
      "cell_type": "code",
      "execution_count": 282,
      "metadata": {},
      "outputs": [
        {
          "data": {
            "image/png": "[encoded data removed]",
            "text/plain": [
              "<Figure size 640x480 with 2 Axes>"
            ]
          },
          "metadata": {},
          "output_type": "display_data"
        }
      ],
      "source": [
        "import torch\n",
        "from torch.utils.data import DataLoader\n",
        "from torchvision.datasets import FashionMNIST\n",
        "import torchvision.transforms as transforms\n",
        "import matplotlib.pyplot as plt\n",
        "\n",
        "# Define a simple data augmentation using torchvision.transforms\n",
        "data_augmentation = transforms.Compose([\n",
        "    transforms.RandomHorizontalFlip(),  # Randomly flip the image horizontally\n",
        "    transforms.RandomVerticalFlip(),    # Randomly flip the image vertically\n",
        "    transforms.RandomRotation(30),       # Randomly rotate the image up to 30 degrees\n",
        "])\n",
        "\n",
        "# Assume you have a dataset\n",
        "transform = transforms.Compose([\n",
        "    transforms.ToTensor(),\n",
        "])\n",
        "\n",
        "\n",
        "# Create a dataset\n",
        "dataset = FashionMNIST(root='./data', train=True, download=True, transform=transform)\n",
        "\n",
        "# Assume you have a data loader with your custom collate function\n",
        "data_loader = DataLoader(dataset, batch_size=16, shuffle=True)\n",
        "\n",
        "# Your custom collate function\n",
        "def custom_collate_fn(batch):\n",
        "    # Define a tensor of the same size as our image batch to store loaded images into\n",
        "    image_batch_tensor = torch.FloatTensor(len(batch), 1, 28, 28)\n",
        "    # Define empty lists to hold items we encounter\n",
        "    image_tensors = []\n",
        "    labels = []\n",
        "    for item in batch:\n",
        "        # load a single image\n",
        "        image_tensor = get_image_tensor(item, threshold=70)  # Replace with your implementation\n",
        "        # put image into a list\n",
        "        image_tensors.append(image_tensor.unsqueeze(0))\n",
        "        # put the same image's label into another list\n",
        "        labels.append(item.iloc[0])\n",
        "\n",
        "    # Concatenate the list of individual tensors (image_tensors) into a single PyTorch tensor (image_batch_tensor)\n",
        "    torch.cat(image_tensors, out=image_batch_tensor)\n",
        "    label_batch_tensor = torch.LongTensor(labels)\n",
        "    # Use the label list to create a torch tensor of ints\n",
        "    return image_batch_tensor, label_batch_tensor\n",
        "\n",
        "# Now, you can use the data loader with your custom collate function\n",
        "for batch_idx, (images, labels) in enumerate(data_loader):\n",
        "    # Apply data augmentation to the first image in the batch\n",
        "    original_image = images[0]\n",
        "    augmented_image = data_augmentation(original_image)\n",
        "\n",
        "    # Display the original and augmented images for comparison\n",
        "    plt.subplot(1, 2, 1)\n",
        "    plt.title('Original Image')\n",
        "    plt.imshow(original_image.squeeze().numpy())\n",
        "\n",
        "    plt.subplot(1, 2, 2)\n",
        "    plt.title('Augmented Image')\n",
        "    plt.imshow(augmented_image.squeeze().numpy())\n",
        "\n",
        "    plt.show()\n",
        "\n",
        "    break  # Only process the first batch for illustration\n"
      ]
    },
    {
      "cell_type": "code",
      "execution_count": 227,
      "metadata": {
        "id": "3JE1WqSOb2BS"
      },
      "outputs": [],
      "source": [
        "import torch\n",
        "import torch.nn as nn\n",
        "import torch.functional as F\n",
        "import torch.optim as optim\n",
        "from torch.utils.data import DataLoader\n",
        "import torchvision.transforms as transforms\n",
        "from torchvision import datasets\n",
        "import matplotlib.pyplot as plt"
      ]
    },
    {
      "cell_type": "code",
      "execution_count": 229,
      "metadata": {
        "id": "Q4gmFZ9YBmkp"
      },
      "outputs": [],
      "source": [
        "import torch.nn as nn\n",
        "\n",
        "class NeuralNetwork(nn.Module):\n",
        "  def __init__(self, input_size, hidden_size, num_classes):\n",
        "    super(NeuralNetwork, self).__init__()\n",
        "    self.fc1 = nn.Linear(input_size, hidden_size)\n",
        "    self.relu = nn.ReLU()\n",
        "    self.fc2 = nn.Linear(hidden_size, num_classes)\n",
        "    self.softmax = nn.Softmax(dim=1)\n",
        "\n",
        "  def forward(self, x):\n",
        "    out = self.fc1(x)\n",
        "    out = self.relu(out)\n",
        "    out = self.fc2(out)\n",
        "    out = self.softmax(out)\n",
        "    return out\n"
      ]
    },
    {
      "cell_type": "code",
      "execution_count": 230,
      "metadata": {
        "id": "ZhP5cTu2PiuN"
      },
      "outputs": [],
      "source": [
        "from torchvision import transforms\n",
        "from PIL import Image"
      ]
    },
    {
      "cell_type": "code",
      "execution_count": 231,
      "metadata": {
        "id": "GIhZH_KOj6hv"
      },
      "outputs": [],
      "source": [
        "class EarlyStopper:\n",
        "    def __init__(self, patience=3, tolerance=0):\n",
        "       self.patience = patience # How many epochs in a row the model is allowed to underperform\n",
        "       self.tolerance = tolerance # How much leeway the model has (i.e. how close it can get to underperforming before it is counted as such)\n",
        "       self.epoch_counter = 0 # Keeping track of how many epochs in a row were failed\n",
        "       self.max_val_acc = np.NINF # Keeping track of best metric so far\n",
        "\n",
        "    def should_stop(self, val_acc):\n",
        "        # print(f\"current val max : {self.max_val_acc} , val acc : {val_acc}\" )\n",
        "        if val_acc > self.max_val_acc:\n",
        "            self.max_val_acc = val_acc\n",
        "            self.epoch_counter = 0\n",
        "        elif val_acc < (self.max_val_acc - self.tolerance):\n",
        "            self.epoch_counter += 1\n",
        "            if self.epoch_counter >= self.patience:\n",
        "                return True\n",
        "        return False"
      ]
    },
    {
      "cell_type": "code",
      "execution_count": 232,
      "metadata": {
        "colab": {
          "base_uri": "https://localhost:8080/"
        },
        "id": "YiUE0vHEkXni",
        "outputId": "7c26bcb8-abf3-41bd-c1c2-cf87cfacfe1e"
      },
      "outputs": [
        {
          "name": "stdout",
          "output_type": "stream",
          "text": [
            "usig device: cuda\n"
          ]
        }
      ],
      "source": [
        "from torch.optim.lr_scheduler import ExponentialLR\n",
        "DEVICE = torch.device('cuda' if torch.cuda.is_available() else 'cpu')\n",
        "train_dl, val_dl = load_data(f\"fashion-mnist_train.csv\", batch_sz=16)\n",
        "n_input = 28*28\n",
        "n_hidden = 128\n",
        "n_classes = 10\n",
        "epoch = 10\n",
        "\n",
        "\n",
        "model = NeuralNetwork(n_input, n_hidden, n_classes)\n",
        "model = model.to(DEVICE)\n",
        "criterion = nn.CrossEntropyLoss()\n",
        "optimiser = optim.SGD(model.parameters(), lr=0.0003, momentum =0.9)\n",
        "\n",
        "gamma = 0.9 #gama is multiplied by the lr every epoch, decreasing the learning rate every time\n",
        "schd = ExponentialLR(optimiser,gamma)\n",
        "\n",
        "print(f\"usig device: {DEVICE}\")\n"
      ]
    },
    {
      "cell_type": "code",
      "execution_count": 233,
      "metadata": {
        "id": "VJKaEooYmkZM"
      },
      "outputs": [],
      "source": [
        "from torch.utils.tensorboard import SummaryWriter"
      ]
    },
    {
      "cell_type": "code",
      "execution_count": 234,
      "metadata": {
        "id": "XucanrTgnUAw"
      },
      "outputs": [],
      "source": [
        "import os\n",
        "\n",
        "\n",
        "# Saves a model to file, and names it after the current epoch\n",
        "def save_checkpoint(model, model_name, epoch, save_dir):\n",
        "    filename = f\"{model_name}_checkpoint_{epoch}.pth\"\n",
        "    save_path = f\"{save_dir}/{filename}\"\n",
        "    torch.save({'state_dict': model.state_dict()}, save_path)"
      ]
    },
    {
      "attachments": {},
      "cell_type": "markdown",
      "metadata": {
        "id": "HvUhwk_klMV5"
      },
      "source": []
    },
    {
      "cell_type": "code",
      "execution_count": 235,
      "metadata": {
        "colab": {
          "base_uri": "https://localhost:8080/"
        },
        "id": "4TMBYXnSGi15",
        "outputId": "7a01812e-24b2-44e9-ee67-ffa0c88f88b3"
      },
      "outputs": [],
      "source": [
        "from torch.utils.tensorboard import SummaryWriter\n",
        "\n",
        "\n"
      ]
    },
    {
      "cell_type": "code",
      "execution_count": 236,
      "metadata": {},
      "outputs": [
        {
          "name": "stdout",
          "output_type": "stream",
          "text": [
            "Epoch 0, train_loss: 2.064230425198873, train_acc: 0.39616666666666667, val_loss: 1.991017906083001, val_acc: 0.4696111111111111\n",
            "Epoch 1, train_loss: 1.992737939335051, train_acc: 0.46795238095238095, val_loss: 1.9851511427561441, val_acc: 0.4756111111111111\n",
            "Epoch 2, train_loss: 1.9883608285813104, train_acc: 0.47235714285714286, val_loss: 1.9874629084269206, val_acc: 0.4732222222222222\n",
            "Epoch 3, train_loss: 1.9856543721698579, train_acc: 0.47509523809523807, val_loss: 1.9826366990407307, val_acc: 0.4781111111111111\n",
            "Epoch 4, train_loss: 1.985255713644482, train_acc: 0.4753809523809524, val_loss: 1.9791639104419285, val_acc: 0.4817222222222222\n",
            "Epoch 5, train_loss: 1.9620150528862363, train_acc: 0.49852380952380954, val_loss: 1.8910532845391168, val_acc: 0.5697222222222222\n",
            "Epoch 6, train_loss: 1.8961411328088669, train_acc: 0.5648809523809524, val_loss: 1.88612947040134, val_acc: 0.5747222222222222\n",
            "Epoch 7, train_loss: 1.8912718273798625, train_acc: 0.5695238095238095, val_loss: 1.8833252071804472, val_acc: 0.5776666666666667\n",
            "Epoch 8, train_loss: 1.891051735378447, train_acc: 0.5697619047619048, val_loss: 1.889596501774258, val_acc: 0.5715\n",
            "Epoch 9, train_loss: 1.8893478181021555, train_acc: 0.5716190476190476, val_loss: 1.884450188530816, val_acc: 0.5765555555555556\n",
            "Finished Training\n"
          ]
        }
      ],
      "source": [
        "\n",
        "\n",
        "# Initialize EarlyStopper with a maximum of 3 epochs\n",
        "early_stopper = EarlyStopper()\n",
        "\n",
        "# Set your desired checkpoint frequency\n",
        "def save_checkpoint(model, epoch, save_dir):\n",
        "    checkpoint = {\n",
        "        'epoch': epoch,\n",
        "        'model_state_dict': model.state_dict(),\n",
        "        # Add any other information you want to save\n",
        "    }\n",
        "    torch.save(checkpoint, os.path.join(save_dir, f'checkpoint_{epoch}.pth'))\n",
        "# Initialize Tensorboard writer\n",
        "writer = SummaryWriter()\n",
        "\n",
        "def train_mlp(net, criterion, optimiser, train_dl, writer, epoch, stopper, checkpoint_frequency):\n",
        "    running_loss = 0.0\n",
        "    running_acc = 0.0\n",
        "    net.train()\n",
        "\n",
        "    for i, data in enumerate(train_dl, 0):\n",
        "        inputs, labels = data\n",
        "        batch_size = labels.shape[0]\n",
        "\n",
        "        optimiser.zero_grad()\n",
        "        inputs = inputs.reshape(batch_size, 28*28).to(DEVICE)\n",
        "        labels = labels.to(DEVICE)\n",
        "        outputs = net(inputs)\n",
        "        loss = criterion(outputs, labels)\n",
        "        loss.backward()\n",
        "        optimiser.step()\n",
        "\n",
        "        preds = torch.argmax(outputs, dim=1)\n",
        "        loss = criterion(outputs, labels)\n",
        "        correct = int(torch.eq(preds, labels).sum())\n",
        "\n",
        "        running_acc += correct / batch_size\n",
        "        running_loss += loss.item()\n",
        "        \n",
        "\n",
        "    epoch_loss = running_loss / len(train_dl)\n",
        "    epoch_acc = running_acc / len(train_dl)\n",
        "    return epoch_loss, epoch_acc\n",
        "\n",
        "def val_mlp(net, criterion, val_dl):\n",
        "    running_loss = 0.0\n",
        "    running_acc = 0.0\n",
        "    net.eval()\n",
        "\n",
        "    for i, data in enumerate(val_dl, 0):\n",
        "        with torch.no_grad():\n",
        "            inputs, labels = data\n",
        "            batch_size = labels.shape[0]\n",
        "            labels = labels.to(DEVICE)\n",
        "\n",
        "            inputs = inputs.reshape(batch_size, 28*28).to(DEVICE)\n",
        "            outputs = net(inputs)\n",
        "            preds = torch.argmax(outputs, dim=1)\n",
        "            loss = criterion(outputs, labels)\n",
        "\n",
        "            correct = int(torch.eq(preds, labels).sum())\n",
        "\n",
        "            running_acc += correct / batch_size\n",
        "            running_loss += loss.item()\n",
        "\n",
        "    epoch_loss = running_loss / len(val_dl)\n",
        "    epoch_acc = running_acc / len(val_dl)\n",
        "\n",
        "    return epoch_loss, epoch_acc\n",
        "\n",
        "\n",
        " # Set your desired checkpoint frequency\n",
        "checkpoint_frequency = 1\n",
        "\n",
        "for epoch in range(10):\n",
        "    \n",
        "    train_loss, train_acc = train_mlp(model, criterion, optimiser, train_dl, writer, epoch, early_stopper, checkpoint_frequency)\n",
        "    val_loss, val_acc = val_mlp(model, criterion, val_dl)\n",
        "    \n",
        "    writer.add_scalar('Loss/train', train_loss, epoch)\n",
        "    writer.add_scalar('Loss/val', val_loss, epoch)\n",
        "\n",
        "    writer.add_scalar('Accuracy/train', train_acc, epoch)\n",
        "    writer.add_scalar('Accuracy/val', val_acc, epoch)\n",
        "    \n",
        "    if epoch % checkpoint_frequency == 0:\n",
        "        save_checkpoint(model, epoch, \"saved_models\")\n",
        "    # Check whether we should stop the training based on the maximum epochs\n",
        "    if early_stopper.should_stop(val_acc):\n",
        "        print(f\"\\nStopping after {early_stopper.epoch_counter} epochs.\")\n",
        "        # If stopping, save the model's state\n",
        "        save_checkpoint(model, epoch, \"saved_models\")\n",
        "        break\n",
        "    print(f\"Epoch {epoch}, train_loss: {train_loss}, train_acc: {train_acc}, val_loss: {val_loss}, val_acc: {val_acc}\")\n",
        "\n",
        "print(\"Finished Training\")\n",
        "\n",
        "# Close Tensorboard writer\n",
        "writer.close()\n"
      ]
    },
    {
      "cell_type": "code",
      "execution_count": 237,
      "metadata": {
        "id": "pTLfoETy72Qu"
      },
      "outputs": [],
      "source": [
        "\n",
        "# Define the CNN Module\n",
        "class CNN(nn.Module):\n",
        "    def __init__(self, num_classes=10):\n",
        "        super(CNN, self).__init__()\n",
        "\n",
        "        # Convolutional layers\n",
        "        self.conv1 = nn.Conv2d(in_channels=1, out_channels=32, kernel_size=3, stride=1, padding=1)\n",
        "        self.relu1 = nn.ReLU()\n",
        "        self.pool1 = nn.MaxPool2d(kernel_size=2)\n",
        "\n",
        "        self.conv2 = nn.Conv2d(in_channels=32, out_channels=64, kernel_size=3, stride=1, padding=1)\n",
        "        self.relu2 = nn.ReLU()\n",
        "        self.pool2 = nn.MaxPool2d(kernel_size=2)\n",
        "\n",
        "        self.conv3 = nn.Conv2d(in_channels=64, out_channels=128, kernel_size=3, stride=1, padding=1)\n",
        "        self.relu3 = nn.ReLU()\n",
        "        self.pool3 = nn.MaxPool2d(kernel_size=2)\n",
        "\n",
        "        # Fully connected layers\n",
        "        self.fc1 = nn.Linear(128 * 3 * 3, 512)\n",
        "        self.relu4 = nn.ReLU()\n",
        "        self.fc2 = nn.Linear(512, num_classes)\n",
        "        self.softmax = nn.Softmax(dim=1)\n",
        "\n",
        "    def forward(self, x):\n",
        "        # Convolutional layers\n",
        "        x = self.relu1(self.conv1(x))\n",
        "        x = self.pool1(x)\n",
        "        x = self.relu2(self.conv2(x))\n",
        "        x = self.pool2(x)\n",
        "        x = self.relu3(self.conv3(x))\n",
        "        x = self.pool3(x)\n",
        "\n",
        "        # Flatten the output for fully connected layers\n",
        "        \n",
        "        x = x.view(x.size(0), -1)\n",
        "        \n",
        "        x = self.relu4(self.fc1(x))\n",
        "        x = self.fc2(x)\n",
        "        x = self.softmax(x)\n",
        "        return x\n",
        "\n",
        "\n",
        "\n",
        "\n"
      ]
    },
    {
      "cell_type": "code",
      "execution_count": 238,
      "metadata": {
        "colab": {
          "base_uri": "https://localhost:8080/"
        },
        "id": "RkECG4zluyY3",
        "outputId": "5ef779a2-f44c-408b-8a4c-d6419c29af0f"
      },
      "outputs": [
        {
          "name": "stdout",
          "output_type": "stream",
          "text": [
            "usig device: cuda\n"
          ]
        }
      ],
      "source": [
        "from torch.optim.lr_scheduler import ExponentialLR\n",
        "\n",
        "DEVICE = torch.device('cuda' if torch.cuda.is_available() else 'cpu')\n",
        "\n",
        "n_input = 28*28\n",
        "n_hidden = 128\n",
        "n_classes = 10\n",
        "cnn_model = CNN()\n",
        "cnn_model = cnn_model.to(DEVICE)\n",
        "\n",
        "criterion = nn.CrossEntropyLoss()\n",
        "optimiser = optim.SGD(cnn_model.parameters(), lr=0.0003, momentum =0.9)\n",
        "\n",
        "gamma = 0.9 #gama is multiplied by the lr every epoch, decreasing the learning rate every time\n",
        "schd = ExponentialLR(optimiser,gamma)\n",
        "epoch = 10\n",
        "\n",
        "\n",
        "print(f\"usig device: {DEVICE}\")\n",
        "\n"
      ]
    },
    {
      "cell_type": "code",
      "execution_count": 239,
      "metadata": {
        "colab": {
          "base_uri": "https://localhost:8080/"
        },
        "id": "jKk6i1XKviuz",
        "outputId": "1a279f4f-cb72-414c-baa9-82086030c972"
      },
      "outputs": [
        {
          "name": "stdout",
          "output_type": "stream",
          "text": [
            "Epoch 0, train_loss: 1.8283265200569516, train_acc: 0.6367619047619048, val_loss: 1.7692267785602145, val_acc: 0.6931111111111111\n",
            "Epoch 1, train_loss: 1.7569031617300852, train_acc: 0.7047142857142857, val_loss: 1.748146080546909, val_acc: 0.7145555555555556\n",
            "Epoch 2, train_loss: 1.7458773150216966, train_acc: 0.7158333333333333, val_loss: 1.7436809265348647, val_acc: 0.7161111111111111\n",
            "Epoch 3, train_loss: 1.735497462181818, train_acc: 0.725452380952381, val_loss: 1.737071444829305, val_acc: 0.7246111111111111\n",
            "Epoch 4, train_loss: 1.7299045015062604, train_acc: 0.7304285714285714, val_loss: 1.729448996649848, val_acc: 0.731\n",
            "Epoch 5, train_loss: 1.7241337988717216, train_acc: 0.7363095238095239, val_loss: 1.732968071937561, val_acc: 0.7272777777777778\n",
            "Epoch 6, train_loss: 1.7211019568670363, train_acc: 0.7387142857142858, val_loss: 1.7247852714326646, val_acc: 0.7352222222222222\n",
            "Epoch 7, train_loss: 1.7182917076746622, train_acc: 0.7416904761904762, val_loss: 1.7233174738354153, val_acc: 0.7360555555555556\n",
            "Epoch 8, train_loss: 1.7157600371497017, train_acc: 0.7443809523809524, val_loss: 1.7215954604678685, val_acc: 0.7376111111111111\n",
            "Epoch 9, train_loss: 1.7133577479862032, train_acc: 0.746547619047619, val_loss: 1.7239947912428115, val_acc: 0.7348888888888889\n",
            "Finished Training\n"
          ]
        }
      ],
      "source": [
        "# Initialize EarlyStopper with a maximum of 3 epochs\n",
        "early_stopper = EarlyStopper()\n",
        "\n",
        "def save_checkpoint(model, epoch, save_path):\n",
        "    # Save the model's state dictionary along with other relevant information\n",
        "    checkpoint = {\n",
        "        'epoch': epoch,\n",
        "        'model_state_dict': model.state_dict(),\n",
        "        # Add any other information you want to save, e.g., optimizer state, loss history, etc.\n",
        "    }\n",
        "    torch.save(checkpoint, os.path.join(save_path, f'cnn_checkpoint_{epoch}.pth'))\n",
        "\n",
        "\n",
        "writer = SummaryWriter()\n",
        "\n",
        "# Training loop\n",
        "def train_cnn(net, criterion, optimiser, train_dl, writer, epoch, early_stopper, checkpoint_frequency):\n",
        "    running_loss = 0.0\n",
        "    running_acc = 0.0\n",
        "    net.train()\n",
        "\n",
        "    for i, data in enumerate(train_dl, 0):\n",
        "        inputs, labels = data\n",
        "        labels = labels.to(DEVICE)\n",
        "        batch_sz = inputs.shape[0]\n",
        "\n",
        "        optimiser.zero_grad()\n",
        "        # Assuming you want to reshape inputs if needed\n",
        "        inputs = inputs.reshape(batch_sz, 1, 28, 28).to(DEVICE)\n",
        "\n",
        "        outputs = net(inputs)\n",
        "        loss = criterion(outputs, labels)\n",
        "        loss.backward()\n",
        "        optimiser.step()\n",
        "\n",
        "        preds = torch.argmax(outputs, dim=1)\n",
        "        correct = int(torch.eq(preds, labels).sum())\n",
        "\n",
        "        running_acc += correct / len(labels)\n",
        "        running_loss += loss.item()\n",
        "\n",
        "    epoch_loss = running_loss / len(train_dl)\n",
        "    epoch_acc = running_acc / len(train_dl)\n",
        "\n",
        "    return epoch_loss, epoch_acc\n",
        "\n",
        "# Validation loop\n",
        "def val_cnn(net, criterion, val_dl):\n",
        "    running_loss = 0.0\n",
        "    running_acc = 0.0\n",
        "    net.eval()\n",
        "\n",
        "    with torch.no_grad():\n",
        "        for i, data in enumerate(val_dl, 0):\n",
        "            inputs, labels = data\n",
        "            labels =labels.to(DEVICE)\n",
        "            batch_sz = inputs.shape[0]\n",
        "\n",
        "            # Assuming you want to reshape inputs if needed\n",
        "            inputs = inputs.reshape(batch_sz, 1, 28, 28).to(DEVICE)\n",
        "\n",
        "            outputs = net(inputs)\n",
        "\n",
        "            loss = criterion(outputs, labels)\n",
        "            preds = torch.argmax(outputs, dim=1)\n",
        "\n",
        "            correct = int(torch.eq(preds, labels).sum())\n",
        "\n",
        "            running_acc += correct / len(labels)\n",
        "            running_loss += loss.item()\n",
        "\n",
        "    epoch_loss = running_loss / len(val_dl)\n",
        "    epoch_acc = running_acc / len(val_dl)\n",
        "\n",
        "    return epoch_loss, epoch_acc\n",
        "\n",
        " # Set your desired checkpoint frequency\n",
        "checkpoint_frequency = 1\n",
        "\n",
        "for epoch in range(10):\n",
        "    \n",
        "    train_loss, train_acc = train_cnn(cnn_model, criterion, optimiser, train_dl, writer, epoch, early_stopper, checkpoint_frequency)\n",
        "    val_loss, val_acc = val_cnn(cnn_model, criterion, val_dl)\n",
        "    \n",
        "    writer.add_scalar('Loss/train', train_loss, epoch)\n",
        "    writer.add_scalar('Loss/val', val_loss, epoch)\n",
        "\n",
        "    writer.add_scalar('Accuracy/train', train_acc, epoch)\n",
        "    writer.add_scalar('Accuracy/val', val_acc, epoch)\n",
        "    \n",
        "    # Log loss and accuracy metrics using the writer so we can see them in Tensorboard\n",
        "    # Check whether we need to save the model to a checkpoint file\n",
        "    if epoch % checkpoint_frequency == 0:\n",
        "        save_checkpoint(cnn_model, epoch, \"saved_models\")\n",
        "\n",
        "    # Check whether we should stop the training based on the maximum epochs\n",
        "    if early_stopper.should_stop(val_acc):\n",
        "        print(f\"\\nStopping after {early_stopper.epoch_counter} epochs.\")\n",
        "        # If stopping, save the model's state\n",
        "        save_checkpoint(cnn_model, epoch, \"saved_models\")\n",
        "        break\n",
        "    print(f\"Epoch {epoch}, train_loss: {train_loss}, train_acc: {train_acc}, val_loss: {val_loss}, val_acc: {val_acc}\")\n",
        "\n",
        "print(\"Finished Training\")\n",
        "\n",
        "# close Tensorboard writer\n",
        "writer.close()"
      ]
    },
    {
      "cell_type": "code",
      "execution_count": 240,
      "metadata": {},
      "outputs": [],
      "source": [
        "test_csv_path=f\"fashion-mnist_test.csv\""
      ]
    },
    {
      "cell_type": "code",
      "execution_count": 241,
      "metadata": {},
      "outputs": [],
      "source": [
        "def test_data_loader(test_csv_path, batch_sz=16):\n",
        "    # Instantiate the test dataset\n",
        "    test_dataset = FashionMNISTDataset(test_csv_path)\n",
        "\n",
        "    # Use PyTorch DataLoader to load the test dataset into memory\n",
        "    n_cpus = mp.cpu_count()\n",
        "    \n",
        "    # Check if the dataset is empty\n",
        "    if len(test_dataset) == 0:\n",
        "        raise ValueError(\"Test dataset is empty. Please check the CSV file or dataset loading logic.\")\n",
        "\n",
        "    test_dl = DataLoader(\n",
        "        test_dataset,\n",
        "        batch_size=batch_sz,\n",
        "        shuffle=False,  # No need to shuffle the test set\n",
        "        collate_fn=custom_collate_fn,\n",
        "        num_workers=n_cpus\n",
        "    )\n",
        "\n",
        "    return test_dl\n",
        "\n"
      ]
    },
    {
      "cell_type": "code",
      "execution_count": 242,
      "metadata": {},
      "outputs": [
        {
          "name": "stdout",
          "output_type": "stream",
          "text": [
            "Test Accuracy: 73.82%\n",
            "Test Loss: 1.7219\n"
          ]
        }
      ],
      "source": [
        "\n",
        "# Function to calculate test accuracy and test loss\n",
        "def test_model(model, dataloader, criterion, device):\n",
        "    model.eval()\n",
        "    total_correct = 0\n",
        "    total_samples = 0\n",
        "    total_loss = 0.0\n",
        "\n",
        "    with torch.no_grad():\n",
        "        for inputs, labels in dataloader:\n",
        "            inputs, labels = inputs.to(device), labels.to(device)\n",
        "            outputs = model(inputs)\n",
        "            \n",
        "            # Calculate loss\n",
        "            loss = criterion(outputs, labels)\n",
        "            total_loss += loss.item()\n",
        "\n",
        "            _, predicted = torch.max(outputs, 1)\n",
        "            total_samples += labels.size(0)\n",
        "            total_correct += (predicted == labels).sum().item()\n",
        "\n",
        "    accuracy = total_correct / total_samples\n",
        "    average_loss = total_loss / len(dataloader)\n",
        "    print(f'Test Accuracy: {accuracy * 100:.2f}%')\n",
        "    print(f'Test Loss: {average_loss:.4f}')\n",
        "\n",
        "    return accuracy, average_loss\n",
        "\n",
        "# Load the checkpoint\n",
        "checkpoint = torch.load(\"saved_models/cnn_checkpoint_9.pth\")\n",
        "\n",
        "# Extract the model state_dict from the loaded checkpoint\n",
        "if 'state_dict' in checkpoint:\n",
        "    state_dict = checkpoint['state_dict']\n",
        "elif 'model_state_dict' in checkpoint:\n",
        "    state_dict = checkpoint['model_state_dict']\n",
        "else:\n",
        "    state_dict = checkpoint  # If no specific key is found, use the entire checkpoint\n",
        "\n",
        "# Create a new instance of the model\n",
        "num_classes = 10\n",
        "cnn_model = CNN(num_classes)  # Replace with your CNN model class\n",
        "\n",
        "# Load the model state_dict\n",
        "cnn_model.load_state_dict(state_dict)\n",
        "\n",
        "# Set your device\n",
        "DEVICE = torch.device(\"cuda\" if torch.cuda.is_available() else \"cpu\")\n",
        "\n",
        "# Move the model to the specified device\n",
        "cnn_model.to(DEVICE)\n",
        "\n",
        "# Assuming you have a test dataloader (replace this with your actual dataloader)\n",
        "test_csv_path = \"fashion-mnist_test.csv\"\n",
        "test_dl = test_data_loader(test_csv_path, batch_sz=16)\n",
        "\n",
        "# Specify the loss function (criterion)\n",
        "criterion = nn.CrossEntropyLoss()\n",
        "\n",
        "# Test the model and print accuracy and loss\n",
        "test_accuracy, test_loss = test_model(cnn_model, test_dl, criterion, DEVICE)"
      ]
    },
    {
      "cell_type": "code",
      "execution_count": 243,
      "metadata": {},
      "outputs": [],
      "source": [
        "        # Define a simple version of calculate_accuracy for testing purposes\n",
        "def calculate_accuracy(predictions, labels):\n",
        "    correct = (predictions == labels).sum().item()\n",
        "    total = len(labels)\n",
        "    accuracy = correct / total\n",
        "    return accuracy"
      ]
    },
    {
      "cell_type": "code",
      "execution_count": 244,
      "metadata": {},
      "outputs": [
        {
          "name": "stderr",
          "output_type": "stream",
          "text": [
            ".......\n",
            "----------------------------------------------------------------------\n",
            "Ran 7 tests in 12.165s\n",
            "\n",
            "OK\n"
          ]
        },
        {
          "data": {
            "text/plain": [
              "<unittest.runner.TextTestResult run=7 errors=0 failures=0>"
            ]
          },
          "execution_count": 244,
          "metadata": {},
          "output_type": "execute_result"
        }
      ],
      "source": [
        "import unittest\n",
        "import torch\n",
        "from torch.utils.data import DataLoader\n",
        "from torch.optim import SGD\n",
        "from torch.optim.lr_scheduler import ExponentialLR\n",
        "import multiprocessing as mp\n",
        "import os\n",
        "\n",
        "class TestFashionClassification(unittest.TestCase):\n",
        "    def setUp(self):\n",
        "        # Load the trained model from the checkpoint\n",
        "        checkpoint = torch.load(\"saved_models/cnn_checkpoint_9.pth\")\n",
        "        if 'state_dict' in checkpoint:\n",
        "            state_dict = checkpoint['state_dict']\n",
        "        elif 'model_state_dict' in checkpoint:\n",
        "            state_dict = checkpoint['model_state_dict']\n",
        "        else:\n",
        "            state_dict = checkpoint\n",
        "        self.model = CNN(num_classes=10)  # Assuming 10 classes for Fashion MNIST\n",
        "        self.model.load_state_dict(state_dict)\n",
        "        self.device = torch.device(\"cuda\" if torch.cuda.is_available() else \"cpu\")\n",
        "        self.model.to(self.device)\n",
        "\n",
        "        # Load the test dataset using the provided CSV path\n",
        "        test_csv_path = \"fashion-mnist_test.csv\"  # Replace with the actual path\n",
        "        test_dataset = FashionMNISTDataset(test_csv_path)\n",
        "        n_cpus = mp.cpu_count()\n",
        "        self.test_dataloader = DataLoader(\n",
        "            test_dataset,\n",
        "            batch_size=16,\n",
        "            shuffle=False,\n",
        "            collate_fn=custom_collate_fn,\n",
        "            num_workers=n_cpus\n",
        "        )\n",
        "\n",
        "        self.criterion = torch.nn.CrossEntropyLoss()\n",
        "\n",
        "    def test_model_prediction(self):\n",
        "        for inputs, labels in self.test_dataloader:\n",
        "            inputs, labels = inputs.to(self.device), labels.to(self.device)\n",
        "            predicted_class = self.model(inputs).argmax(dim=1)\n",
        "            self.assertTrue(torch.all(predicted_class >= 0) and torch.all(predicted_class < 10))\n",
        "\n",
        "\n",
        "\n",
        "    def test_model_accuracy(self):\n",
        "        for inputs, labels in self.test_dataloader:\n",
        "            inputs, labels = inputs.to(self.device), labels.to(self.device)\n",
        "            predictions = self.model(inputs).argmax(dim=1)\n",
        "            accuracy = calculate_accuracy(predictions, labels)\n",
        "            self.assertGreaterEqual(accuracy, 0.0)\n",
        "            self.assertLessEqual(accuracy, 1.0)\n",
        "\n",
        "    def test_data_loader(self):\n",
        "        for inputs, labels in self.test_dataloader:\n",
        "            self.assertEqual(inputs.shape, torch.Size([16, 1, 28, 28]))\n",
        "            self.assertEqual(labels.shape, torch.Size([16]))\n",
        "\n",
        "    \n",
        "    def test_model_training(self):\n",
        "        optimizer = SGD(self.model.parameters(), lr=0.001)\n",
        "        criterion = torch.nn.CrossEntropyLoss()\n",
        "\n",
        "        for epoch in range(3):\n",
        "            for inputs, labels in self.test_dataloader:\n",
        "                optimizer.zero_grad()\n",
        "                inputs, labels = inputs.to(self.device), labels.to(self.device)\n",
        "                outputs = self.model(inputs)\n",
        "                loss = criterion(outputs, labels)\n",
        "                loss.backward()\n",
        "                optimizer.step()\n",
        "\n",
        "    def test_model_save_load(self):\n",
        "        torch.save(self.model.state_dict(), 'fashionmnist_test_model.pth')\n",
        "        loaded_model = CNN(num_classes=10)\n",
        "        loaded_model.load_state_dict(torch.load('fashionmnist_test_model.pth'))\n",
        "        self.assertTrue(isinstance(loaded_model, CNN))\n",
        "\n",
        "    def test_model_forward_pass(self):\n",
        "        inputs = torch.randn(16, 1, 28, 28).to(self.device)\n",
        "        outputs = self.model(inputs)\n",
        "        self.assertEqual(outputs.shape, torch.Size([16, 10]))\n",
        "\n",
        "    def test_early_stopping(self):\n",
        "        # Set up early stopper\n",
        "        early_stopper = EarlyStopper(patience=3)\n",
        "\n",
        "        # Training loop with early stopping\n",
        "        for epoch in range(10):\n",
        "            # Simulating training process\n",
        "            val_acc = 0.75 - epoch * 0.1  # Decreasing validation accuracy\n",
        "            if early_stopper.should_stop(val_acc):\n",
        "                break\n",
        "\n",
        "        self.assertEqual(early_stopper.epoch_counter, 3)  # Patience is 3\n",
        "\n",
        "# Run the tests\n",
        "unittest.TextTestRunner().run(unittest.TestLoader().loadTestsFromTestCase(TestFashionClassification))\n"
      ]
    }
  ],
  "metadata": {
    "accelerator": "GPU",
    "colab": {
      "gpuType": "T4",
      "provenance": []
    },
    "kernelspec": {
      "display_name": "Python 3",
      "name": "python3"
    },
    "language_info": {
      "codemirror_mode": {
        "name": "ipython",
        "version": 3
      },
      "file_extension": ".py",
      "mimetype": "text/x-python",
      "name": "python",
      "nbconvert_exporter": "python",
      "pygments_lexer": "ipython3",
      "version": "3.11.5"
    }
  },
  "nbformat": 4,
  "nbformat_minor": 0
}
